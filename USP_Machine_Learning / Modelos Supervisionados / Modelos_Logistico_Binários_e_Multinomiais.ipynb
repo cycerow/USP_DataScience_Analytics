{
  "nbformat": 4,
  "nbformat_minor": 0,
  "metadata": {
    "colab": {
      "provenance": [],
      "authorship_tag": "ABX9TyO1AFFG/PAoYj4UttQSxotW",
      "include_colab_link": true
    },
    "kernelspec": {
      "name": "python3",
      "display_name": "Python 3"
    },
    "language_info": {
      "name": "python"
    }
  },
  "cells": [
    {
      "cell_type": "markdown",
      "metadata": {
        "id": "view-in-github",
        "colab_type": "text"
      },
      "source": [
        "<a href=\"https://colab.research.google.com/github/cycerow/USP_Machine_Learning/blob/main/USP_Machine_Learning%20/%20Modelos%20Supervisionados%20/%20Modelos_Logistico_Bin%C3%A1rios_e_Multinomiais.ipynb\" target=\"_parent\"><img src=\"https://colab.research.google.com/assets/colab-badge.svg\" alt=\"Open In Colab\"/></a>"
      ]
    },
    {
      "cell_type": "code",
      "execution_count": null,
      "metadata": {
        "id": "IapzlupBc_dx"
      },
      "outputs": [],
      "source": []
    }
  ]
}